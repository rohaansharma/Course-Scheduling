{
 "cells": [
  {
   "cell_type": "code",
   "execution_count": 1,
   "metadata": {},
   "outputs": [],
   "source": [
    "import time\n",
    "import pandas as pd\n",
    "import numpy as np\n",
    "import math\n",
    "from ortools.linear_solver import pywraplp\n"
   ]
  },
  {
   "cell_type": "code",
   "execution_count": 2,
   "metadata": {},
   "outputs": [],
   "source": [
    "AllData = pd.ExcelFile(\"Input Data.xlsx\")\n",
    "StudentCourseData = pd.read_excel(AllData, 'StudentCourse')\n",
    "TeacherCourseData = pd.read_excel(AllData, 'TeacherCourse')\n",
    "TeacherBlockData = pd.read_excel(AllData, 'TeacherDay')\n",
    "\n",
    "teacher_day = TeacherBlockData.copy().applymap(lambda x: 0 if x == 'N' else 1)\n",
    "teacher_course = TeacherCourseData.copy().applymap(lambda x: 1 if x == 'Y' else 0)\n"
   ]
  },
  {
   "cell_type": "code",
   "execution_count": 3,
   "metadata": {},
   "outputs": [
    {
     "name": "stdout",
     "output_type": "stream",
     "text": [
      "5\n",
      "Y\n",
      "N\n"
     ]
    }
   ],
   "source": [
    "# StudentCourseData['CS 5010 Programming Design Paradigm (Core)'][1] = 5 means that Student 1 wants to take Course \n",
    "# CS 5010 Programming Design Paradigm (Core) with a preference of 5\n",
    "print(StudentCourseData['CS 5010 Programming Design Paradigm (Core)'][1])\n",
    "\n",
    "# TeacherCourseData['CS 5010 Programming Design Paradigm (Core)'][5] ='Y' means that Course \n",
    "# CS 5010 Programming Design Paradigm (Core) can be taught by Teacher 3\n",
    "print(TeacherCourseData['CS 5010 Programming Design Paradigm (Core)'][3])\n",
    "\n",
    "# TeacherDayData[1][5] ='N' means that Day 'Mon' cannot be assigned to Teacher T5\n",
    "print(TeacherBlockData['Mon'][5])"
   ]
  },
  {
   "cell_type": "code",
   "execution_count": 4,
   "metadata": {},
   "outputs": [
    {
     "name": "stdout",
     "output_type": "stream",
     "text": [
      "['CS 5010 Programming Design Paradigm (Core)'\n",
      " 'CS 5500 Foundations of Software Engineering (Core)'\n",
      " 'CS 5600 Computer System (Core)' 'CS 5800 Algorithms (Core)'\n",
      " 'CS 5100 Foundations of Artificial Intelligence'\n",
      " 'CS 5335 Robotic Science and Systems'\n",
      " 'CS 6120 Natural Language Processing' 'CS 6140 Machine Learning'\n",
      " 'CS 7140 Advanced Machine Learning'\n",
      " 'CS 7180 Special Topics in Artificial Intelligence'\n",
      " 'CS 5340 Computer/Human Interaction' 'CS 6350 Empirical Research Methods'\n",
      " 'CS 5520 Mobile Application Development' 'CS 5610 Web Development'\n",
      " 'CS 6510 Advanced Software Development'\n",
      " 'CS 6650 Building Scalable Distributed Systems'\n",
      " 'CS 7580 Special Topics in Software Engineering'\n",
      " 'CS 5200 Database Management Systems' 'CS 6200 Information Retrieval'\n",
      " 'CS 6220 Data Mining Techniques'\n",
      " 'CS 6240 Large-Scale Parallel Data Processing' 'CS 7150 Deep Learning'\n",
      " 'CS 7280 Special Topics in Database Management'\n",
      " 'CS 7290 Special Topics in Data Science'\n",
      " 'CS 7295 Special Topics in Data Visualization']\n"
     ]
    }
   ],
   "source": [
    "numStudents = StudentCourseData.shape[0]\n",
    "numTeachers = TeacherCourseData.shape[0]\n",
    "numCourses = StudentCourseData.shape[1] - 1\n",
    "numDays = TeacherBlockData.shape[1] - 1\n",
    "\n",
    "numSem = 4\n",
    "SeatCountPerCourse = 20\n",
    "maxNumberOfCourses = 8\n",
    "\n",
    "allStudents = range(numStudents)\n",
    "allTeachers = range(numTeachers)\n",
    "allCourses = range(numCourses)\n",
    "allDays = range(numDays)\n",
    "allSem = range(numSem)\n",
    "\n",
    "StudentList = np.array(StudentCourseData['Name'])\n",
    "TeacherList = np.array(TeacherCourseData['Name'])\n",
    "CourseList = np.delete(np.array(TeacherCourseData.columns),0)\n",
    "DayList = np.delete(np.array(TeacherBlockData.columns),0)\n",
    "SemList = np.array(['Sem1','Sem2','Sem3','Sem4'])\n",
    "\n",
    "allCoreCourses = [0,1,2,3]\n",
    "allElectiveCourses = np.arange(4,numCourses)\n",
    "print(CourseList)"
   ]
  },
  {
   "cell_type": "code",
   "execution_count": 5,
   "metadata": {},
   "outputs": [
    {
     "name": "stdout",
     "output_type": "stream",
     "text": [
      "Optimization Complete with Total Happiness Score of 1886\n",
      "\n",
      "Our program needed 99.972 seconds to determine the optimal solution\n"
     ]
    }
   ],
   "source": [
    "solver = pywraplp.Solver('Timetabling Problem', pywraplp.Solver.CBC_MIXED_INTEGER_PROGRAMMING)\n",
    "\n",
    "start_time = time.time()\n",
    "\n",
    "# Define our binary variables for the students and teachers\n",
    "X = {}\n",
    "for s in allStudents:\n",
    "    for c in allCourses:\n",
    "        for sem in allSem:\n",
    "            X[s,c,sem] = solver.BoolVar('X[%i,%i,%i]' % (s,c,sem))\n",
    "\n",
    "Y = {}\n",
    "for t in allTeachers:\n",
    "    for c in allCourses:\n",
    "        for d in allDays:\n",
    "            for sem in allSem:\n",
    "                Y[t,c,d,sem] = solver.BoolVar('Y[%i,%i,%i,%i]' % (t,c,d,sem))\n",
    "\n",
    "# Define our objective function\n",
    "solver.Maximize(solver.Sum(X[s,c,sem] * StudentCourseData[CourseList[c]][s] for s in allStudents for c in allCourses for sem in allSem))\n",
    "\n",
    "# Each student must take two course on each sem\n",
    "for s in allStudents:\n",
    "    for sem in allSem:\n",
    "        solver.Add(solver.Sum([X[s,c,sem] for c in allCourses]) == 2)\n",
    "\n",
    "# Student can take courses only when it is available\n",
    "for sem in allSem:\n",
    "    for c in allCourses:\n",
    "        for s in allStudents:\n",
    "            solver.Add(solver.Sum([X[s, c, sem]]) <= \n",
    "                       solver.Sum([Y[t, c, d, sem] for t in allTeachers for d in allDays]))\n",
    "\n",
    "# No teacher may teach more than two courses per sem\n",
    "for sem in allSem:\n",
    "    for t in allTeachers:\n",
    "        solver.Add(solver.Sum([Y[t,c,d,sem] for c in allCourses for d in allDays]) <= 2)\n",
    "\n",
    "# Atmost 2 courses are taught each day\n",
    "for sem in allSem:\n",
    "    for d in allDays:\n",
    "        solver.Add(solver.Sum([Y[t,c,d,sem] for t in allTeachers for c in allCourses]) <= 2)\n",
    "\n",
    "# Teacher can teach course only on the days they are available.\n",
    "for sem in allSem:\n",
    "    for t in allTeachers:\n",
    "        for d in allDays:\n",
    "            solver.Add(solver.Sum([Y[t, c, d, sem] for c in allCourses]) <= teacher_day[DayList[d]][t])\n",
    "\n",
    "# Course if available in a sem should be taught on a single day\n",
    "for sem in allSem:\n",
    "    for c in allCourses:\n",
    "        solver.Add(solver.Sum([Y[t, c, d, sem] for t in allTeachers for d in allDays]) <= 1)\n",
    "\n",
    "# Teacher teaches course they perfer to teach\n",
    "for sem in allSem:\n",
    "    for t in allTeachers:\n",
    "        for c in allCourses:\n",
    "            solver.Add(solver.Sum([Y[t, c, d, sem] for d in allDays]) <= teacher_course[CourseList[c]][t])\n",
    "\n",
    "# Total number of students enrolled in course should be less than total seats.\n",
    "for sem in allSem:\n",
    "    for c in allCourses:\n",
    "        solver.Add(solver.Sum([X[s, c, sem] for s in allStudents]) <= SeatCountPerCourse)\n",
    "\n",
    "# Student will take a course excatly once across 4 semesters\n",
    "for s in allStudents:\n",
    "    for c in allCourses:\n",
    "        solver.Add(solver.Sum([X[s,c,sem] for sem in allSem]) <= 1)\n",
    "        \n",
    "# Each course is assigned to one teacher.\n",
    "for sem in allSem:\n",
    "    for c in allCourses:\n",
    "        solver.Add(solver.Sum([Y[t,c,d,sem] for t in allTeachers for d in allDays]) <= 1)\n",
    "        \n",
    "# Total number of courses offered should be less than maximum courses campus can schedule in a semester. \n",
    "for sem in allSem:\n",
    "    solver.Add(solver.Sum([Y[t, c, d, sem] for t in allTeachers for c in allCourses for d in allDays]) <= maxNumberOfCourses)\n",
    "    \n",
    "# At least one core course should be offered every semester \n",
    "for sem in allSem:\n",
    "    solver.Add(solver.Sum([Y[t, c, d, sem] for t in allTeachers for c in allCoreCourses for d in allDays]) >= 1)\n",
    "\n",
    "# At least one elective course should be offered every semester \n",
    "for sem in allSem:\n",
    "    solver.Add(solver.Sum([Y[t, c, d, sem] for t in allTeachers for c in allElectiveCourses for d in allDays]) >= 1)\n",
    "\n",
    "# Student must take CS5010 PDP course\n",
    "for s in allStudents:\n",
    "    solver.Add(solver.Sum([X[s,0,sem] for sem in allSem]) == 1)\n",
    "\n",
    "# Student must take CS5800 Algo course\n",
    "for s in allStudents:\n",
    "    solver.Add(solver.Sum([X[s,3,sem] for sem in allSem]) == 1)\n",
    "\n",
    "# Student must take CS5500/CS5600 course\n",
    "for s in allStudents:\n",
    "    solver.Add(solver.Sum([X[s,1,sem] + X[s,2,sem] for sem in allSem]) == 1)\n",
    "\n",
    "current_time = time.time() \n",
    "reading_time = current_time - start_time         \n",
    "sol = solver.Solve()\n",
    "solving_time = time.time() - current_time\n",
    "\n",
    "print('Optimization Complete with Total Happiness Score of', round(solver.Objective().Value()))\n",
    "print(\"\")\n",
    "print('Our program needed', round(solving_time,3), \n",
    "      'seconds to determine the optimal solution')"
   ]
  },
  {
   "cell_type": "code",
   "execution_count": 6,
   "metadata": {},
   "outputs": [],
   "source": [
    "timetable = []\n",
    "for sem in allSem:\n",
    "    semlist = []\n",
    "    for d in allDays:\n",
    "        daylist = \"\"\n",
    "        for t in allTeachers:\n",
    "            for c in allCourses:\n",
    "                if Y[t,c,d,sem].solution_value() == 1:\n",
    "                    daylist = daylist + CourseList[c] + \" - \" + TeacherList[t] + \"\\n\"\n",
    "        semlist.append(daylist.strip())\n",
    "    timetable.append(semlist)\n",
    "coursett = pd.DataFrame(timetable, columns = DayList, index = SemList)  "
   ]
  },
  {
   "cell_type": "code",
   "execution_count": 7,
   "metadata": {},
   "outputs": [],
   "source": [
    "timetable = []\n",
    "for s in allStudents:\n",
    "    semlist = []\n",
    "    for sem in allSem:\n",
    "        courselist = \"\"\n",
    "        for c in allCourses:\n",
    "            if X[s,c,sem].solution_value() == 1:\n",
    "                courselist = courselist + CourseList[c] + \"\\n\"\n",
    "        semlist.append(courselist.strip())\n",
    "    timetable.append(semlist)\n",
    "studenttt = pd.DataFrame(timetable, columns = SemList, index = StudentList)"
   ]
  },
  {
   "cell_type": "code",
   "execution_count": 8,
   "metadata": {},
   "outputs": [],
   "source": [
    "with pd.ExcelWriter('output.xlsx') as writer:  \n",
    "    coursett.to_excel(writer, sheet_name='Course Timetable')\n",
    "    studenttt.to_excel(writer, sheet_name='student TimeTable')"
   ]
  },
  {
   "cell_type": "code",
   "execution_count": null,
   "metadata": {},
   "outputs": [],
   "source": []
  }
 ],
 "metadata": {
  "kernelspec": {
   "display_name": "Python 3",
   "language": "python",
   "name": "python3"
  },
  "language_info": {
   "codemirror_mode": {
    "name": "ipython",
    "version": 3
   },
   "file_extension": ".py",
   "mimetype": "text/x-python",
   "name": "python",
   "nbconvert_exporter": "python",
   "pygments_lexer": "ipython3",
   "version": "3.6.5"
  }
 },
 "nbformat": 4,
 "nbformat_minor": 4
}
